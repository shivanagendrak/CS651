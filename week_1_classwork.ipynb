{
 "cells": [
  {
   "cell_type": "code",
   "execution_count": 2,
   "id": "34b0994d",
   "metadata": {},
   "outputs": [
    {
     "name": "stdout",
     "output_type": "stream",
     "text": [
      "Enter the Full Name: Shiva Nagendra Babu\n",
      "Shiva Nagendra Babu\n"
     ]
    }
   ],
   "source": [
    "a = input(\"Enter the Full Name: \")\n",
    "print(a)"
   ]
  },
  {
   "cell_type": "code",
   "execution_count": 3,
   "id": "7aceca70",
   "metadata": {},
   "outputs": [
    {
     "name": "stdout",
     "output_type": "stream",
     "text": [
      "['Shiva', 'Nagendra', 'Babu']\n"
     ]
    }
   ],
   "source": [
    "tokens = a.split()\n",
    "print(tokens)"
   ]
  },
  {
   "cell_type": "code",
   "execution_count": 4,
   "id": "2b19fa94",
   "metadata": {},
   "outputs": [
    {
     "name": "stdout",
     "output_type": "stream",
     "text": [
      "The Initials are:  S  N  B\n"
     ]
    }
   ],
   "source": [
    "firstname = tokens[0]\n",
    "middlename = tokens[1]\n",
    "lastname = tokens[2]\n",
    "print(\"The Initials are: \",firstname[0],\"\",middlename[0],\"\",lastname[0])"
   ]
  },
  {
   "cell_type": "code",
   "execution_count": 5,
   "id": "fd1bfc89",
   "metadata": {},
   "outputs": [
    {
     "name": "stdout",
     "output_type": "stream",
     "text": [
      "19\n"
     ]
    }
   ],
   "source": [
    "name = len(a)\n",
    "print(name)"
   ]
  },
  {
   "cell_type": "code",
   "execution_count": 6,
   "id": "8abec852",
   "metadata": {},
   "outputs": [
    {
     "name": "stdout",
     "output_type": "stream",
     "text": [
      "ubaB ardnegaN avihS"
     ]
    }
   ],
   "source": [
    "for i in range(name-1,-1,-1):\n",
    "    print(a[i] , end=\"\")"
   ]
  },
  {
   "cell_type": "code",
   "execution_count": 7,
   "id": "e4375bf0",
   "metadata": {},
   "outputs": [
    {
     "name": "stdout",
     "output_type": "stream",
     "text": [
      "Enter the String11oiuy234iou2345o234ui5*&\n",
      "11oiuy234iou2345o234ui5*&\n"
     ]
    }
   ],
   "source": [
    "s = input(\"Enter the String\")\n",
    "print(s)"
   ]
  },
  {
   "cell_type": "code",
   "execution_count": 8,
   "id": "6f33af0b",
   "metadata": {},
   "outputs": [
    {
     "name": "stdout",
     "output_type": "stream",
     "text": [
      "11oiuy234iou2345o234ui5*&\n"
     ]
    }
   ],
   "source": [
    "l = s.lower()\n",
    "print(l)"
   ]
  },
  {
   "cell_type": "code",
   "execution_count": 9,
   "id": "b4209bb2",
   "metadata": {},
   "outputs": [],
   "source": [
    "found = False\n",
    "for i in range(0,10):\n",
    "    si=str(i)\n",
    "    if l.find(si)>=0:\n",
    "        found=True"
   ]
  },
  {
   "cell_type": "code",
   "execution_count": 11,
   "id": "6b58aa39",
   "metadata": {},
   "outputs": [
    {
     "name": "stdout",
     "output_type": "stream",
     "text": [
      "String has atleast one Digit\n"
     ]
    }
   ],
   "source": [
    "if found==True:\n",
    "    print(\"String has atleast one Digit\")\n",
    "else:\n",
    "    print(\"String has No Digit\")"
   ]
  },
  {
   "cell_type": "code",
   "execution_count": null,
   "id": "a770fa59",
   "metadata": {},
   "outputs": [],
   "source": []
  }
 ],
 "metadata": {
  "kernelspec": {
   "display_name": "Python 3 (ipykernel)",
   "language": "python",
   "name": "python3"
  },
  "language_info": {
   "codemirror_mode": {
    "name": "ipython",
    "version": 3
   },
   "file_extension": ".py",
   "mimetype": "text/x-python",
   "name": "python",
   "nbconvert_exporter": "python",
   "pygments_lexer": "ipython3",
   "version": "3.11.1"
  }
 },
 "nbformat": 4,
 "nbformat_minor": 5
}
