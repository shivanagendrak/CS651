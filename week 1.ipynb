{
 "cells": [
  {
   "cell_type": "code",
   "execution_count": 1,
   "id": "612bcde4",
   "metadata": {},
   "outputs": [],
   "source": [
    "a = \"HelloWorld\""
   ]
  },
  {
   "cell_type": "code",
   "execution_count": 2,
   "id": "fa32ed3c",
   "metadata": {},
   "outputs": [
    {
     "name": "stdout",
     "output_type": "stream",
     "text": [
      "HelloWorld\n"
     ]
    }
   ],
   "source": [
    "print(a)"
   ]
  },
  {
   "cell_type": "code",
   "execution_count": 3,
   "id": "32d79ef6",
   "metadata": {},
   "outputs": [
    {
     "name": "stdout",
     "output_type": "stream",
     "text": [
      "e\n"
     ]
    }
   ],
   "source": [
    "a = \"Hello, World\"\n",
    "b = a[1]\n",
    "print(b)"
   ]
  },
  {
   "cell_type": "code",
   "execution_count": 4,
   "id": "e1343549",
   "metadata": {},
   "outputs": [
    {
     "name": "stdout",
     "output_type": "stream",
     "text": [
      "iva N\n"
     ]
    }
   ],
   "source": [
    "#String Slicing\n",
    "a = \"Shiva Nagendra Babu\"\n",
    "b = a[2:7]\n",
    "print(b)"
   ]
  },
  {
   "cell_type": "code",
   "execution_count": 12,
   "id": "c4db21f8",
   "metadata": {},
   "outputs": [
    {
     "name": "stdout",
     "output_type": "stream",
     "text": [
      "8\n",
      "AVENGERS\n",
      "avengers\n",
      "Avenger\n"
     ]
    }
   ],
   "source": [
    "a = \"Avengers\"\n",
    "print(len(a))\n",
    "print(a.upper())\n",
    "print(a.lower())\n",
    "print(a.replace(\"s\",\"\"))"
   ]
  },
  {
   "cell_type": "code",
   "execution_count": 13,
   "id": "33659dee",
   "metadata": {},
   "outputs": [
    {
     "name": "stdout",
     "output_type": "stream",
     "text": [
      "shivaNagendraBabu\n"
     ]
    }
   ],
   "source": [
    "#String Concatenaton\n",
    "a = \"shiva\"\n",
    "b = \"Nagendra\"\n",
    "c = \"Babu\"\n",
    "d = a+\"\"+b+\"\"+c\n",
    "print(d)"
   ]
  },
  {
   "cell_type": "code",
   "execution_count": 34,
   "id": "121891d9",
   "metadata": {},
   "outputs": [
    {
     "name": "stdout",
     "output_type": "stream",
     "text": [
      "False\n",
      "False\n",
      "False\n",
      "True\n",
      "False\n",
      "False\n",
      "False\n"
     ]
    }
   ],
   "source": [
    "#String Methods\n",
    "# isalnum()\n",
    "a = \"ShivaNagendraBabu\"\n",
    "b = a.isalnum()\n",
    "print(b)\n",
    "\n",
    "#isalpha()\n",
    "c = a.isalpha()\n",
    "print(c)\n",
    "\n",
    "#isdigit()\n",
    "d = a.isdigit()\n",
    "print(d)\n",
    "#It Becomes False Because the string does't have integers\n",
    "m = \"123\"\n",
    "n = m.isdigit()\n",
    "print(n)\n",
    "# The Output comes True Because The String Have Integers \n",
    "\n",
    "#islower()\n",
    "print(a.islower())\n",
    "\n",
    "#isupper()\n",
    "print(a.isupper())\n",
    "\n",
    "#isspace()\n",
    "print(a.isspace())\n",
    "\n",
    "\n",
    "\n"
   ]
  },
  {
   "cell_type": "code",
   "execution_count": null,
   "id": "bc514230",
   "metadata": {},
   "outputs": [],
   "source": []
  }
 ],
 "metadata": {
  "kernelspec": {
   "display_name": "Python 3 (ipykernel)",
   "language": "python",
   "name": "python3"
  },
  "language_info": {
   "codemirror_mode": {
    "name": "ipython",
    "version": 3
   },
   "file_extension": ".py",
   "mimetype": "text/x-python",
   "name": "python",
   "nbconvert_exporter": "python",
   "pygments_lexer": "ipython3",
   "version": "3.11.1"
  }
 },
 "nbformat": 4,
 "nbformat_minor": 5
}
